{
 "cells": [
  {
   "cell_type": "code",
   "execution_count": 23,
   "id": "e2964613-9d4c-420c-b5d0-e8a404e28a3e",
   "metadata": {
    "ExecutionIndicator": {
     "show": false
    },
    "execution": {
     "iopub.execute_input": "2024-07-24T07:26:42.150536Z",
     "iopub.status.busy": "2024-07-24T07:26:42.150224Z",
     "iopub.status.idle": "2024-07-24T07:26:42.195213Z",
     "shell.execute_reply": "2024-07-24T07:26:42.194780Z",
     "shell.execute_reply.started": "2024-07-24T07:26:42.150517Z"
    },
    "tags": []
   },
   "outputs": [],
   "source": [
    "##### 方案一：通过 OPENAI API 运行 ollama\n",
    "import os\n",
    "from openai import OpenAI\n",
    "\n",
    "# os.environ['OPENAI_API_KEY'] = '123'\n",
    "# os.environ['OPENAI_BASE_URL'] = 'http://localhost:11434/v1/'\n",
    "\n",
    "client = OpenAI(\n",
    "    api_key='123',  # 随便设置但是必须设置\n",
    "    base_url='http://localhost:11434/v1/',\n",
    ")"
   ]
  },
  {
   "cell_type": "code",
   "execution_count": 32,
   "id": "119b74d3-8ebe-44ee-8587-a9056a2eac05",
   "metadata": {
    "ExecutionIndicator": {
     "show": true
    },
    "execution": {
     "iopub.execute_input": "2024-07-24T08:31:33.453436Z",
     "iopub.status.busy": "2024-07-24T08:31:33.453090Z",
     "iopub.status.idle": "2024-07-24T08:31:34.124523Z",
     "shell.execute_reply": "2024-07-24T08:31:34.124035Z",
     "shell.execute_reply.started": "2024-07-24T08:31:33.453416Z"
    },
    "tags": []
   },
   "outputs": [
    {
     "data": {
      "text/plain": [
       "'成熟的香蕉通常是黄色的，但也可能在某些成熟阶段呈现出橙色。未成熟的香蕉通常是绿色的，有时会有黄色的斑点或条纹。'"
      ]
     },
     "execution_count": 32,
     "metadata": {},
     "output_type": "execute_result"
    }
   ],
   "source": [
    "completion = client.chat.completions.create(\n",
    "    model=\"qwen2-7b\",\n",
    "    messages=[\n",
    "        {\"role\": \"system\", \"content\": \"You are a helpful assistant.\"},\n",
    "        {\"role\": \"user\", \"content\": \"香蕉是什么颜色的？\"}\n",
    "    ]\n",
    ")\n",
    "\n",
    "completion.choices[0].message.content"
   ]
  },
  {
   "cell_type": "code",
   "execution_count": 26,
   "id": "e5af953d-878e-450a-924e-42ce334c0444",
   "metadata": {
    "ExecutionIndicator": {
     "show": false
    },
    "execution": {
     "iopub.execute_input": "2024-07-24T08:04:15.746728Z",
     "iopub.status.busy": "2024-07-24T08:04:15.746424Z",
     "iopub.status.idle": "2024-07-24T08:04:18.223369Z",
     "shell.execute_reply": "2024-07-24T08:04:18.222872Z",
     "shell.execute_reply.started": "2024-07-24T08:04:15.746710Z"
    },
    "tags": []
   },
   "outputs": [
    {
     "name": "stdout",
     "output_type": "stream",
     "text": [
      "香蕉的颜色会随着成熟度而变化。未成熟的香蕉通常是绿色的，随着成熟，它们会变为黄色，并且在某些品种中，接近果皮末端可能会出现少量的红色或褐色斑点。香蕉从绿色到黄色的变化通常表示其内部已经变得成熟和甜度增加。\n"
     ]
    }
   ],
   "source": [
    "##### 方案二：通过 LlamaIndex 运行 ollama\n",
    "!pip install -i https://pypi.tuna.tsinghua.edu.cn/simple llama-index-llms-ollama  # ollama llm\n",
    "!pip install -i https://pypi.tuna.tsinghua.edu.cn/simple llama_index.embeddings.ollama  # ollama embedding"
   ]
  },
  {
   "cell_type": "code",
   "execution_count": 29,
   "id": "4fa9718d-10e4-4b57-a077-e110cfb7feeb",
   "metadata": {
    "ExecutionIndicator": {
     "show": false
    },
    "execution": {
     "iopub.execute_input": "2024-07-24T08:30:19.539100Z",
     "iopub.status.busy": "2024-07-24T08:30:19.538782Z",
     "iopub.status.idle": "2024-07-24T08:30:20.850686Z",
     "shell.execute_reply": "2024-07-24T08:30:20.850206Z",
     "shell.execute_reply.started": "2024-07-24T08:30:19.539082Z"
    },
    "tags": []
   },
   "outputs": [
    {
     "name": "stdout",
     "output_type": "stream",
     "text": [
      "香蕉的颜色会随着成熟度的不同而变化。未成熟的香蕉通常是绿色的，随着成熟度增加，颜色会变为黄色，有时还可能带有橙色或红色的斑点。完全成熟的香蕉颜色则为深黄色，并且可能会出现一些黑色的斑点。如果香蕉非常成熟并且开始腐烂，颜色可能会变成更深的棕色或黑色。\n"
     ]
    }
   ],
   "source": [
    "# ollama LLM\n",
    "from llama_index.llms.ollama import Ollama\n",
    "\n",
    "llm = Ollama(model=\"qwen2-7b\", request_timeout=10.0)  # 模型名称不能错，通过 $ ollama list 查看\n",
    "\n",
    "# test chat\n",
    "response = llm.complete(\"香蕉的颜色是\")\n",
    "print(response)"
   ]
  },
  {
   "cell_type": "code",
   "execution_count": 28,
   "id": "d570db7e-802b-41cf-9850-c2ffe6ae4b37",
   "metadata": {
    "ExecutionIndicator": {
     "show": false
    },
    "execution": {
     "iopub.execute_input": "2024-07-24T08:30:06.509357Z",
     "iopub.status.busy": "2024-07-24T08:30:06.509040Z",
     "iopub.status.idle": "2024-07-24T08:30:06.512860Z",
     "shell.execute_reply": "2024-07-24T08:30:06.512392Z",
     "shell.execute_reply.started": "2024-07-24T08:30:06.509339Z"
    },
    "tags": []
   },
   "outputs": [],
   "source": [
    "# ollama Embedding\n",
    "from llama_index.core.base.embeddings.base import BaseEmbedding\n",
    "from llama_index.embeddings.ollama import OllamaEmbedding\n",
    "\n",
    "embed_model = OllamaEmbedding(model_name=\"qwen2-7b\")\n",
    "assert isinstance(embed_model, BaseEmbedding)  # 测试用例"
   ]
  }
 ],
 "metadata": {
  "kernelspec": {
   "display_name": "Python 3 (ipykernel)",
   "language": "python",
   "name": "python3"
  },
  "language_info": {
   "codemirror_mode": {
    "name": "ipython",
    "version": 3
   },
   "file_extension": ".py",
   "mimetype": "text/x-python",
   "name": "python",
   "nbconvert_exporter": "python",
   "pygments_lexer": "ipython3",
   "version": "3.10.14"
  }
 },
 "nbformat": 4,
 "nbformat_minor": 5
}
