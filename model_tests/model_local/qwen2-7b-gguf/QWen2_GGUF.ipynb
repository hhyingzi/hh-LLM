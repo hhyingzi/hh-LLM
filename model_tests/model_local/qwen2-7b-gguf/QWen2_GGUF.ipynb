{
 "cells": [
  {
   "cell_type": "code",
   "execution_count": 1,
   "metadata": {
    "ExecutionIndicator": {
     "show": true
    },
    "execution": {
     "iopub.execute_input": "2024-07-04T08:09:29.053625Z",
     "iopub.status.busy": "2024-07-04T08:09:29.053291Z",
     "iopub.status.idle": "2024-07-04T08:09:29.060526Z",
     "shell.execute_reply": "2024-07-04T08:09:29.060004Z",
     "shell.execute_reply.started": "2024-07-04T08:09:29.053597Z"
    },
    "tags": []
   },
   "outputs": [
    {
     "name": "stdout",
     "output_type": "stream",
     "text": [
      "True\n"
     ]
    }
   ],
   "source": [
    "# Huggingface: MaziyarPanahi/Qwen2-7B-Instruct-GGUF\n",
    "model_path = \"/mnt/workspace/model/Qwen2-7B-Instruct-GGUF\"\n",
    "model_file = \"/mnt/workspace/model/Qwen2-7B-Instruct-GGUF/Qwen2-7B-Instruct.Q5_K_M.gguf\"\n",
    "\n",
    "import os\n",
    "print(os.path.exists(model_file))"
   ]
  },
  {
   "cell_type": "code",
   "execution_count": null,
   "metadata": {
    "ExecutionIndicator": {
     "show": true
    },
    "tags": []
   },
   "outputs": [],
   "source": [
    "from llama_cpp import Llama\n",
    "llm = Llama(\n",
    "      model_path=model_file,\n",
    "      chat_format=\"llama-2\"\n",
    ")"
   ]
  },
  {
   "cell_type": "code",
   "execution_count": 19,
   "metadata": {
    "ExecutionIndicator": {
     "show": true
    },
    "execution": {
     "iopub.execute_input": "2024-07-04T07:44:07.530521Z",
     "iopub.status.busy": "2024-07-04T07:44:07.530134Z",
     "iopub.status.idle": "2024-07-04T07:44:13.020029Z",
     "shell.execute_reply": "2024-07-04T07:44:13.019366Z",
     "shell.execute_reply.started": "2024-07-04T07:44:07.530498Z"
    },
    "tags": []
   },
   "outputs": [
    {
     "name": "stderr",
     "output_type": "stream",
     "text": [
      "Llama.generate: prefix-match hit\n",
      "\n",
      "llama_print_timings:        load time =    2246.55 ms\n",
      "llama_print_timings:      sample time =      29.87 ms /    34 runs   (    0.88 ms per token,  1138.46 tokens per second)\n",
      "llama_print_timings: prompt eval time =       0.00 ms /     0 tokens (    -nan ms per token,     -nan tokens per second)\n",
      "llama_print_timings:        eval time =    5417.56 ms /    34 runs   (  159.34 ms per token,     6.28 tokens per second)\n",
      "llama_print_timings:       total time =    5480.81 ms /    34 tokens\n"
     ]
    },
    {
     "data": {
      "text/plain": [
       "{'id': 'chatcmpl-30c787f2-59b7-4455-8ec1-503355f595a2',\n",
       " 'object': 'chat.completion',\n",
       " 'created': 1720079047,\n",
       " 'model': '/mnt/workspace/model/Qwen2-7B-Instruct-GGUF/Qwen2-7B-Instruct.Q5_K_M.gguf',\n",
       " 'choices': [{'index': 0,\n",
       "   'message': {'role': 'assistant',\n",
       "    'content': 'assistant: 香蕉通常是黄色的，但也可能在成熟过程中变为几乎白色或绿色。未成熟的香蕉可能是绿色的，而非常黄。'},\n",
       "   'logprobs': None,\n",
       "   'finish_reason': 'stop'}],\n",
       " 'usage': {'prompt_tokens': 27, 'completion_tokens': 33, 'total_tokens': 60}}"
      ]
     },
     "execution_count": 19,
     "metadata": {},
     "output_type": "execute_result"
    }
   ],
   "source": [
    "prompt = \"香蕉是什么颜色的？\"\n",
    "llm.create_chat_completion(\n",
    "      messages = [\n",
    "          {\"role\": \"system\", \"content\": \"You are a helpful assistant.\"},\n",
    "          {\n",
    "              \"role\": \"user\",\n",
    "              \"content\": prompt\n",
    "          }\n",
    "      ]\n",
    ")"
   ]
  }
 ],
 "metadata": {
  "kernelspec": {
   "display_name": "Python 3 (ipykernel)",
   "language": "python",
   "name": "python3"
  },
  "language_info": {
   "codemirror_mode": {
    "name": "ipython",
    "version": 3
   },
   "file_extension": ".py",
   "mimetype": "text/x-python",
   "name": "python",
   "nbconvert_exporter": "python",
   "pygments_lexer": "ipython3",
   "version": "3.10.14"
  }
 },
 "nbformat": 4,
 "nbformat_minor": 4
}
