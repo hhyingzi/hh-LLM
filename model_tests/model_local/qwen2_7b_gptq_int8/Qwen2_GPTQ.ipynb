{
 "cells": [
  {
   "cell_type": "code",
   "execution_count": 1,
   "id": "76c86c36-a5de-4c41-a51c-f8524e147cad",
   "metadata": {
    "ExecutionIndicator": {
     "show": false
    },
    "execution": {
     "iopub.execute_input": "2024-07-02T09:56:23.352012Z",
     "iopub.status.busy": "2024-07-02T09:56:23.351617Z",
     "iopub.status.idle": "2024-07-02T09:56:23.556410Z",
     "shell.execute_reply": "2024-07-02T09:56:23.555623Z",
     "shell.execute_reply.started": "2024-07-02T09:56:23.351979Z"
    },
    "tags": []
   },
   "outputs": [
    {
     "name": "stdout",
     "output_type": "stream",
     "text": [
      "added_tokens.json\tmodel-00001-of-00002.safetensors  tokenizer_config.json\n",
      "config.json\t\tmodel-00002-of-00002.safetensors  tokenizer.json\n",
      "generation_config.json\tmodel.safetensors.index.json\t  vocab.json\n",
      "merges.txt\t\tspecial_tokens_map.json\n"
     ]
    }
   ],
   "source": [
    "# Huggingface: Qwen/Qwen2-7B-Instruct-GPTQ-Int8\n",
    "model_qwen2 = r\"/mnt/workspace/model/Qwen2-7B-Instruct-GPTQ-Int8\"\n",
    "!ls /mnt/workspace/model/Qwen2-7B-Instruct-GPTQ-Int8"
   ]
  },
  {
   "cell_type": "code",
   "execution_count": 2,
   "id": "dab78512-854f-495d-aca4-467534835706",
   "metadata": {
    "ExecutionIndicator": {
     "show": true
    },
    "execution": {
     "iopub.execute_input": "2024-07-02T09:56:26.105010Z",
     "iopub.status.busy": "2024-07-02T09:56:26.104627Z",
     "iopub.status.idle": "2024-07-02T09:57:10.597878Z",
     "shell.execute_reply": "2024-07-02T09:57:10.597239Z",
     "shell.execute_reply.started": "2024-07-02T09:56:26.104975Z"
    },
    "tags": []
   },
   "outputs": [
    {
     "name": "stderr",
     "output_type": "stream",
     "text": [
      "2024-07-02 17:56:27,637 - modelscope - INFO - PyTorch version 2.3.0+cu121 Found.\n",
      "2024-07-02 17:56:27,640 - modelscope - INFO - TensorFlow version 2.16.1 Found.\n",
      "2024-07-02 17:56:27,641 - modelscope - INFO - Loading ast index from /mnt/workspace/.cache/modelscope/ast_indexer\n",
      "2024-07-02 17:56:27,675 - modelscope - INFO - Loading done! Current index file version is 1.15.0, with md5 03830e53bae2c0a8f8ac72c969ac6ac1 and a total number of 980 components indexed\n",
      "/usr/local/lib/python3.10/site-packages/tqdm/auto.py:21: TqdmWarning: IProgress not found. Please update jupyter and ipywidgets. See https://ipywidgets.readthedocs.io/en/stable/user_install.html\n",
      "  from .autonotebook import tqdm as notebook_tqdm\n",
      "2024-07-02 17:56:29.607969: I tensorflow/core/util/port.cc:113] oneDNN custom operations are on. You may see slightly different numerical results due to floating-point round-off errors from different computation orders. To turn them off, set the environment variable `TF_ENABLE_ONEDNN_OPTS=0`.\n",
      "2024-07-02 17:56:29.650855: I tensorflow/core/platform/cpu_feature_guard.cc:210] This TensorFlow binary is optimized to use available CPU instructions in performance-critical operations.\n",
      "To enable the following instructions: AVX2 AVX512F AVX512_VNNI FMA, in other operations, rebuild TensorFlow with the appropriate compiler flags.\n",
      "2024-07-02 17:56:30.601979: W tensorflow/compiler/tf2tensorrt/utils/py_utils.cc:38] TF-TRT Warning: Could not find TensorRT\n",
      "CUDA extension not installed.\n",
      "CUDA extension not installed.\n",
      "/usr/local/lib/python3.10/site-packages/transformers/modeling_utils.py:4565: FutureWarning: `_is_quantized_training_enabled` is going to be deprecated in transformers 4.39.0. Please use `model.hf_quantizer.is_trainable` instead\n",
      "  warnings.warn(\n",
      "Loading checkpoint shards: 100%|██████████| 2/2 [00:30<00:00, 15.26s/it]\n",
      "Special tokens have been added in the vocabulary, make sure the associated word embeddings are fine-tuned or trained.\n"
     ]
    }
   ],
   "source": [
    "from modelscope import AutoModelForCausalLM, AutoTokenizer\n",
    "device = \"cuda\" # the device to load the model onto\n",
    "\n",
    "model = AutoModelForCausalLM.from_pretrained(\n",
    "    model_qwen2,\n",
    "    torch_dtype=\"auto\",\n",
    "    device_map=\"auto\"\n",
    ")\n",
    "tokenizer = AutoTokenizer.from_pretrained(model_qwen2)"
   ]
  },
  {
   "cell_type": "code",
   "execution_count": 3,
   "id": "773d924e-4f5a-4828-a87d-081fa7c3c70c",
   "metadata": {
    "ExecutionIndicator": {
     "show": true
    },
    "execution": {
     "iopub.execute_input": "2024-07-02T09:57:14.170696Z",
     "iopub.status.busy": "2024-07-02T09:57:14.170113Z",
     "iopub.status.idle": "2024-07-02T09:57:33.258532Z",
     "shell.execute_reply": "2024-07-02T09:57:33.257784Z",
     "shell.execute_reply.started": "2024-07-02T09:57:14.170671Z"
    },
    "tags": []
   },
   "outputs": [
    {
     "name": "stderr",
     "output_type": "stream",
     "text": [
      "The attention mask is not set and cannot be inferred from input because pad token is same as eos token.As a consequence, you may observe unexpected behavior. Please pass your input's `attention_mask` to obtain reliable results.\n"
     ]
    },
    {
     "name": "stdout",
     "output_type": "stream",
     "text": [
      "香蕉通常是黄色的，但也可能是绿色的，具体取决于它们是否成熟。未成熟的香蕉表皮是绿色的，而成熟的香蕉则是黄色的，有时也会带有褐色斑点。在某些品种中，香蕉也可能呈现红色、紫色或带有条纹的颜色。\n"
     ]
    }
   ],
   "source": [
    "prompt = \"香蕉是什么颜色的？\"\n",
    "messages = [\n",
    "    {\"role\": \"system\", \"content\": \"You are a helpful assistant.\"},\n",
    "    {\"role\": \"user\", \"content\": prompt}\n",
    "]\n",
    "text = tokenizer.apply_chat_template(\n",
    "    messages,\n",
    "    tokenize=False,\n",
    "    add_generation_prompt=True\n",
    ")\n",
    "model_inputs = tokenizer([text], return_tensors=\"pt\").to(device)\n",
    "\n",
    "generated_ids = model.generate(\n",
    "    model_inputs.input_ids,\n",
    "    max_new_tokens=512\n",
    ")\n",
    "generated_ids = [\n",
    "    output_ids[len(input_ids):] for input_ids, output_ids in zip(model_inputs.input_ids, generated_ids)\n",
    "]\n",
    "\n",
    "response = tokenizer.batch_decode(generated_ids, skip_special_tokens=True)[0]\n",
    "print(response)"
   ]
  },
  {
   "cell_type": "code",
   "execution_count": 17,
   "id": "df588380-3851-4ba9-88e4-62168082f862",
   "metadata": {
    "ExecutionIndicator": {
     "show": true
    },
    "execution": {
     "iopub.execute_input": "2024-07-02T10:13:26.194786Z",
     "iopub.status.busy": "2024-07-02T10:13:26.194398Z",
     "iopub.status.idle": "2024-07-02T10:13:34.380568Z",
     "shell.execute_reply": "2024-07-02T10:13:34.379716Z",
     "shell.execute_reply.started": "2024-07-02T10:13:26.194762Z"
    },
    "tags": []
   },
   "outputs": [
    {
     "name": "stdout",
     "output_type": "stream",
     "text": [
      "[{'role': 'system', 'content': 'You are a helpful assistant.'}, {'role': 'user', 'content': '香蕉是什么颜色的？'}, {'role': 'assistant', 'content': '香蕉通常是黄色的，但也可能因成熟度、品种或环境因素而呈现绿色、红色或其他颜色。成熟的香蕉会'}]\n"
     ]
    }
   ],
   "source": [
    "from transformers import pipeline\n",
    "from modelscope.utils.constant import Tasks\n",
    "generator = pipeline(Tasks.text_generation, model=model, tokenizer=tokenizer)\n",
    "result = generator(messages, max_length=50)[0]['generated_text']\n",
    "print(result)"
   ]
  },
  {
   "cell_type": "markdown",
   "id": "dbcd33ad-ed3c-4ecf-b4a1-62bc308b53d3",
   "metadata": {},
   "source": []
  }
 ],
 "metadata": {
  "kernelspec": {
   "display_name": "Python 3 (ipykernel)",
   "language": "python",
   "name": "python3"
  },
  "language_info": {
   "codemirror_mode": {
    "name": "ipython",
    "version": 3
   },
   "file_extension": ".py",
   "mimetype": "text/x-python",
   "name": "python",
   "nbconvert_exporter": "python",
   "pygments_lexer": "ipython3",
   "version": "3.10.14"
  }
 },
 "nbformat": 4,
 "nbformat_minor": 5
}
